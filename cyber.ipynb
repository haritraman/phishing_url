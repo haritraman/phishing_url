{
  "nbformat": 4,
  "nbformat_minor": 0,
  "metadata": {
    "colab": {
      "provenance": [],
      "gpuType": "T4",
      "include_colab_link": true
    },
    "kernelspec": {
      "name": "python3",
      "display_name": "Python 3"
    },
    "language_info": {
      "name": "python"
    },
    "accelerator": "GPU"
  },
  "cells": [
    {
      "cell_type": "markdown",
      "metadata": {
        "id": "view-in-github",
        "colab_type": "text"
      },
      "source": [
        "<a href=\"https://colab.research.google.com/github/haritraman/phishing_url/blob/main/cyber.ipynb\" target=\"_parent\"><img src=\"https://colab.research.google.com/assets/colab-badge.svg\" alt=\"Open In Colab\"/></a>"
      ]
    },
    {
      "cell_type": "code",
      "source": [
        "# Cell 1 - Imports & seed\n",
        "import os, random, re, pickle\n",
        "import numpy as np\n",
        "import pandas as pd\n",
        "import matplotlib.pyplot as plt\n",
        "import seaborn as sns\n",
        "\n",
        "from urllib.parse import urlparse\n",
        "\n",
        "from sklearn.model_selection import train_test_split\n",
        "from sklearn.preprocessing import StandardScaler\n",
        "from sklearn.metrics import classification_report, confusion_matrix, roc_auc_score\n",
        "\n",
        "import tensorflow as tf\n",
        "from tensorflow.keras.preprocessing.text import Tokenizer\n",
        "from tensorflow.keras.preprocessing.sequence import pad_sequences\n",
        "from tensorflow.keras.models import Model\n",
        "from tensorflow.keras.layers import Input, Embedding, LSTM, Dense, Dropout, concatenate\n",
        "from tensorflow.keras.callbacks import EarlyStopping, ReduceLROnPlateau, ModelCheckpoint\n",
        "\n",
        "# Reproducibility\n",
        "seed = 42\n",
        "np.random.seed(seed)\n",
        "random.seed(seed)\n",
        "tf.random.set_seed(seed)\n",
        "os.environ['PYTHONHASHSEED'] = str(seed)\n",
        "\n",
        "# Mount Drive (Colab)\n",
        "from google.colab import drive\n",
        "drive.mount('/content/drive', force_remount=True)\n",
        "\n",
        "print(\"✅ Imports, seed and Drive mount done.\")\n"
      ],
      "metadata": {
        "colab": {
          "base_uri": "https://localhost:8080/"
        },
        "id": "BShAn0XkmuWa",
        "outputId": "74604d9d-9bc1-4474-985a-1a6f80fb266f"
      },
      "execution_count": null,
      "outputs": [
        {
          "output_type": "stream",
          "name": "stdout",
          "text": [
            "Mounted at /content/drive\n",
            "✅ Imports, seed and Drive mount done.\n"
          ]
        }
      ]
    },
    {
      "cell_type": "code",
      "source": [
        "# Cell 2 - Load CSVs and extract a 'url' column from each (robust to different column names)\n",
        "\n",
        "def extract_url_series(df, source_name):\n",
        "    # Try likely column names in order\n",
        "    candidates = ['url', 'URL', 'Url', 'domain', 'Domain', 'DomainName', 'Host', 'host', 'link', 'Link']\n",
        "    for c in candidates:\n",
        "        if c in df.columns:\n",
        "            s = df[c].astype(str).str.strip()\n",
        "            # If column is a domain (no scheme), prepend http:// for parsing consistency\n",
        "            s = s.apply(lambda u: u if u.lower().startswith(('http://','https://')) else 'http://' + u if u != '' else '')\n",
        "            return s\n",
        "    # Fallback: try first column\n",
        "    first_col = df.columns[0]\n",
        "    s = df[first_col].astype(str).str.strip()\n",
        "    s = s.apply(lambda u: u if u.lower().startswith(('http://','https://')) else 'http://' + u if u != '' else '')\n",
        "    return s\n",
        "\n",
        "# Update paths if needed\n",
        "majestic_path = \"/content/drive/My Drive/majestic_million.csv\"\n",
        "verified_path = \"/content/drive/My Drive/verified_online.csv\"\n",
        "\n",
        "df_majestic = pd.read_csv(majestic_path, low_memory=False)\n",
        "df_verified = pd.read_csv(verified_path, low_memory=False)\n",
        "\n",
        "# Extract urls\n",
        "urls_majestic = extract_url_series(df_majestic, 'majestic')\n",
        "urls_verified = extract_url_series(df_verified, 'verified')\n",
        "\n",
        "print(\"Majestic sample:\", urls_majestic.iloc[:3].tolist())\n",
        "print(\"Verified sample:\", urls_verified.iloc[:3].tolist())\n",
        "print(\"Counts -> majestic:\", len(urls_majestic), \"verified:\", len(urls_verified))\n"
      ],
      "metadata": {
        "colab": {
          "base_uri": "https://localhost:8080/"
        },
        "id": "EbmwWabcmu_J",
        "outputId": "9b2fe59f-5e27-4828-8b07-a66ed2643d6f"
      },
      "execution_count": null,
      "outputs": [
        {
          "output_type": "stream",
          "name": "stdout",
          "text": [
            "Majestic sample: ['http://google.com', 'http://facebook.com', 'http://youtube.com']\n",
            "Verified sample: ['https://revenue.payipo.cc/notice', 'https://pay.pag-club.site/P5LNZ8zOzndgaRy', 'https://swtreasurymanager.de/ui/index.php']\n",
            "Counts -> majestic: 1000000 verified: 50810\n"
          ]
        }
      ]
    },
    {
      "cell_type": "code",
      "source": [
        "# Cell 3 - Combine, label, dedupe, sample to balance\n",
        "\n",
        "# Assume: verified_online = phishing (label=1), majestic = benign (label=0)\n",
        "malicious_urls = pd.Series(urls_verified.unique()).dropna().astype(str).str.strip()\n",
        "benign_urls    = pd.Series(urls_majestic.unique()).dropna().astype(str).str.strip()\n",
        "\n",
        "# Remove empty strings\n",
        "malicious_urls = malicious_urls[malicious_urls != '']\n",
        "benign_urls = benign_urls[benign_urls != '']\n",
        "\n",
        "# Ensure no accidental overlap\n",
        "intersection = set(malicious_urls) & set(benign_urls)\n",
        "print(\"Intersection (same URL in both sources):\", len(intersection))\n",
        "if len(intersection) > 0:\n",
        "    print(\"Example overlaps:\", list(intersection)[:5])\n",
        "    # Remove overlapping entries from benign (or malicious) -- we drop them from benign here:\n",
        "    benign_urls = [u for u in benign_urls if u not in intersection]\n",
        "\n",
        "# Balanced sampling (choose minimum size or limit)\n",
        "max_sample = 50000  # <= adjust as you want\n",
        "n = min(max_sample, len(malicious_urls), len(benign_urls))\n",
        "print(\"Using sample size per class:\", n)\n",
        "\n",
        "mal_sample = np.random.choice(malicious_urls, n, replace=False)\n",
        "ben_sample = np.random.choice(benign_urls, n, replace=False)\n",
        "\n",
        "df_mal = pd.DataFrame({'url': mal_sample, 'label': 1, 'source': 'verified_online'})\n",
        "df_ben = pd.DataFrame({'url': ben_sample, 'label': 0, 'source': 'majestic_million'})\n",
        "\n",
        "df = pd.concat([df_mal, df_ben], ignore_index=True).sample(frac=1, random_state=seed).reset_index(drop=True)\n",
        "\n",
        "print(\"Combined df shape:\", df.shape)\n",
        "print(df['label'].value_counts())\n",
        "print(\"Some example rows:\\n\", df.head())\n"
      ],
      "metadata": {
        "colab": {
          "base_uri": "https://localhost:8080/"
        },
        "id": "1TPKb-iQmymH",
        "outputId": "07bb8ee8-5d8c-4629-b932-81502a618737"
      },
      "execution_count": null,
      "outputs": [
        {
          "output_type": "stream",
          "name": "stdout",
          "text": [
            "Intersection (same URL in both sources): 3\n",
            "Example overlaps: ['http://easyhotel.com.my', 'http://builderallwppro.com', 'http://web66.com.tw']\n",
            "Using sample size per class: 50000\n",
            "Combined df shape: (100000, 3)\n",
            "label\n",
            "0    50000\n",
            "1    50000\n",
            "Name: count, dtype: int64\n",
            "Some example rows:\n",
            "                                                  url  label            source\n",
            "0                              http://africafoot.com      0  majestic_million\n",
            "1                               http://cialishav.com      0  majestic_million\n",
            "2  https://docs.google.com/presentation/d/e/2PACX...      1   verified_online\n",
            "3                        http://edinburghbicycle.com      0  majestic_million\n",
            "4                          http://shinmicatering.com      0  majestic_million\n"
          ]
        }
      ]
    },
    {
      "cell_type": "code",
      "source": [
        "# Cell 4 - Preprocess and comprehensive feature extractor (robust)\n",
        "\n",
        "def preprocess_urls(urls, keep_scheme=True):\n",
        "    processed = []\n",
        "    for url in urls:\n",
        "        try:\n",
        "            u = str(url).strip()\n",
        "            if u == '':\n",
        "                processed.append('')\n",
        "                continue\n",
        "            u = u.lower()\n",
        "            if not keep_scheme:\n",
        "                u = re.sub(r'^https?://', '', u)\n",
        "            u = re.sub(r'^www\\.', '', u)\n",
        "            u = re.sub(r'\\s+', '', u)\n",
        "            processed.append(u)\n",
        "        except:\n",
        "            processed.append('')\n",
        "    return processed\n",
        "\n",
        "def extract_advanced_features(urls):\n",
        "    features = []\n",
        "    for url in urls:\n",
        "        try:\n",
        "            # Ensure parseable\n",
        "            if not url.lower().startswith(('http://','https://')):\n",
        "                parse_url = 'http://' + url\n",
        "            else:\n",
        "                parse_url = url\n",
        "\n",
        "            parsed = urlparse(parse_url)\n",
        "\n",
        "            url_str = url\n",
        "            url_length = len(url_str)\n",
        "            domain = parsed.netloc or ''\n",
        "            path = parsed.path or ''\n",
        "            num_dots = url_str.count('.')\n",
        "            num_hyphens = url_str.count('-')\n",
        "            num_slashes = url_str.count('/')\n",
        "            num_question_marks = url_str.count('?')\n",
        "            num_equals = url_str.count('=')\n",
        "            num_ampersands = url_str.count('&')\n",
        "            num_digits = sum(c.isdigit() for c in url_str)\n",
        "            num_special_chars = len(re.findall(r'[^a-zA-Z0-9\\.\\/\\-\\:]', url_str))\n",
        "\n",
        "            has_https = 1 if parsed.scheme == 'https' else 0\n",
        "            has_ip = 1 if re.match(r'^\\d+\\.\\d+\\.\\d+\\.\\d+$', domain) else 0\n",
        "            has_at_symbol = 1 if '@' in url_str else 0\n",
        "            has_redirect = 1 if '//' in path else 0\n",
        "\n",
        "            shorteners = ['bit.ly','goo.gl','tinyurl','t.co','ow.ly','is.gd','buff.ly']\n",
        "            has_shortener = 1 if any(s in domain for s in shorteners) else 0\n",
        "\n",
        "            domain_parts = domain.split('.') if domain else []\n",
        "            num_subdomains = max(0, len(domain_parts) - 2)\n",
        "\n",
        "            tld = domain_parts[-1] if domain_parts else ''\n",
        "            suspicious_tlds = set(['xyz','top','club','online','tk','ml','ga','cf','gq','pw'])\n",
        "            suspicious_tld = 1 if tld in suspicious_tlds else 0\n",
        "\n",
        "            suspicious_keywords = ['login','verify','secure','account','bank','update','signin','password','wallet','payment','confirm','free','gift','prize','claim','reward','click','security','alert','urgent','phish','scam']\n",
        "            num_suspicious_keywords = sum(1 for kw in suspicious_keywords if kw in url_str)\n",
        "\n",
        "            # entropy\n",
        "            if len(url_str) > 0:\n",
        "                entropy = -sum((url_str.count(c) / len(url_str)) * np.log2(url_str.count(c) / len(url_str)) for c in set(url_str) if url_str.count(c)>0)\n",
        "            else:\n",
        "                entropy = 0\n",
        "\n",
        "            vowel_count = sum(1 for c in url_str if c in 'aeiou')\n",
        "            vowel_ratio = vowel_count / len(url_str) if len(url_str)>0 else 0\n",
        "\n",
        "            features.append([\n",
        "                url_length, len(domain), len(path), num_dots, num_hyphens, num_slashes,\n",
        "                num_question_marks, num_equals, num_ampersands, num_digits, num_special_chars,\n",
        "                has_https, has_ip, has_at_symbol, has_redirect, has_shortener, num_subdomains,\n",
        "                suspicious_tld, num_suspicious_keywords, entropy, vowel_ratio\n",
        "            ])\n",
        "        except Exception as e:\n",
        "            features.append([0]*21)\n",
        "    cols = [\n",
        "        'url_length','domain_length','path_length','num_dots','num_hyphens','num_slashes',\n",
        "        'num_question_marks','num_equals','num_ampersands','num_digits','num_special_chars',\n",
        "        'has_https','has_ip','has_at_symbol','has_redirect','has_shortener','num_subdomains',\n",
        "        'suspicious_tld','num_suspicious_keywords','entropy','vowel_ratio'\n",
        "    ]\n",
        "    return np.array(features), cols\n",
        "\n",
        "# Create processed urls and features\n",
        "df['url'] = df['url'].astype(str)  # ensure str\n",
        "processed_urls = preprocess_urls(df['url'].values, keep_scheme=True)  # keep scheme for feature extraction\n",
        "X_features, feature_names = extract_advanced_features(processed_urls)\n",
        "y = df['label'].values\n",
        "\n",
        "print(\"Processed examples:\", processed_urls[:3])\n",
        "print(\"Feature matrix shape:\", X_features.shape)\n"
      ],
      "metadata": {
        "colab": {
          "base_uri": "https://localhost:8080/"
        },
        "id": "e1lyycmim0nA",
        "outputId": "95332773-378c-47a0-cff4-551a3e364355"
      },
      "execution_count": null,
      "outputs": [
        {
          "output_type": "stream",
          "name": "stdout",
          "text": [
            "Processed examples: ['http://africafoot.com', 'http://cialishav.com', 'https://docs.google.com/presentation/d/e/2pacx-1vr26vj9dqeau7kro4re0v51pmefyg6m7km-ubzmyk-xnnaumd8vx6oq_hb1_gs7h_6muoiok8y8jqus/pub?start=false&loop=false&delayms=3000&slide=id.p']\n",
            "Feature matrix shape: (100000, 21)\n"
          ]
        }
      ]
    },
    {
      "cell_type": "code",
      "source": [
        "# Cell 5 - Sanity checks\n",
        "print(\"Total rows:\", len(df))\n",
        "print(\"Duplicates (same url):\", df['url'].duplicated().sum())\n",
        "\n",
        "# Confirm class balance after sampling\n",
        "print(\"Label counts:\\n\", df['label'].value_counts())\n",
        "\n",
        "# If you want to see if any url repeated across classes (should be 0)\n",
        "mal_set = set(df[df['label']==1]['url'])\n",
        "ben_set = set(df[df['label']==0]['url'])\n",
        "print(\"Intersection between classes:\", len(mal_set & ben_set))\n"
      ],
      "metadata": {
        "colab": {
          "base_uri": "https://localhost:8080/"
        },
        "id": "qtNcdFlIm3Dn",
        "outputId": "976bc0ae-11fc-4ddd-c3cc-0cf9ff77ce0e"
      },
      "execution_count": null,
      "outputs": [
        {
          "output_type": "stream",
          "name": "stdout",
          "text": [
            "Total rows: 100000\n",
            "Duplicates (same url): 0\n",
            "Label counts:\n",
            " label\n",
            "0    50000\n",
            "1    50000\n",
            "Name: count, dtype: int64\n",
            "Intersection between classes: 0\n"
          ]
        }
      ]
    },
    {
      "cell_type": "code",
      "source": [
        "# New Cell - Feature Importance Analysis (To be placed before Cell 6)\n",
        "### Feature Importance Analysis for Full 21 Features\n",
        "\n",
        "from sklearn.ensemble import RandomForestClassifier\n",
        "from sklearn.model_selection import train_test_split\n",
        "from sklearn.preprocessing import StandardScaler\n",
        "\n",
        "print(\"Starting Feature Importance Analysis on all 21 features...\")\n",
        "\n",
        "# 1. Split data (Full Features)\n",
        "# Note: We must re-split and re-scale here because we are using ALL 21 features,\n",
        "# and we need to fit the scaler to the full set of 21 features.\n",
        "X_imp_train, X_imp_test, y_imp_train, y_imp_test = train_test_split(\n",
        "    X_features, y, test_size=0.2, random_state=seed, stratify=y\n",
        ")\n",
        "\n",
        "# 2. Scale Features (Crucial to fit scaler on 21 features)\n",
        "scaler_imp = StandardScaler()\n",
        "X_imp_train_scaled = scaler_imp.fit_transform(X_imp_train)\n",
        "# We don't need to transform the test set for feature importance, but we can.\n",
        "# X_imp_test_scaled = scaler_imp.transform(X_imp_test)\n",
        "\n",
        "# 3. Train a Preliminary Random Forest Model (using all 21 features)\n",
        "# Random Forest is a great choice for this task as it handles non-linear relationships\n",
        "# and provides intrinsic feature importances.\n",
        "rf_importance_model = RandomForestClassifier(n_estimators=100, random_state=seed, n_jobs=-1)\n",
        "rf_importance_model.fit(X_imp_train_scaled, y_imp_train)\n",
        "print(\"Preliminary Random Forest trained on 21 features.\")\n",
        "\n",
        "# 4. Get and Display Feature Importances\n",
        "importances = rf_importance_model.feature_importances_\n",
        "\n",
        "# Create a Series for easy sorting and plotting\n",
        "feature_importance_series = pd.Series(importances, index=feature_names)\n",
        "\n",
        "# Sort the features by importance\n",
        "sorted_feature_importances = feature_importance_series.sort_values(ascending=False)\n",
        "\n",
        "print(\"\\nFeature Importances (Top 10 of 21 Features):\")\n",
        "print(sorted_feature_importances.head(10))\n",
        "\n",
        "# 5. Plot the Feature Importances\n",
        "plt.figure(figsize=(12, 8))\n",
        "sorted_feature_importances.plot(kind='barh')\n",
        "plt.title('Feature Importances (Full 21 Features)')\n",
        "plt.xlabel('Importance')\n",
        "plt.ylabel('Feature')\n",
        "plt.gca().invert_yaxis() # Display most important at the top\n",
        "plt.show()\n",
        "\n",
        "# 6. Select the actual top 5 features based on this analysis\n",
        "# This confirms or corrects the list used in Cell 6\n",
        "# NOTE: The list 'top_5_features' in Cell 6 must be updated if this analysis yields a different set.\n",
        "new_top_5_features = sorted_feature_importances.head(5).index.tolist()\n",
        "print(\"\\nConfirmed/Suggested Top 5 Features for Final Model Training:\")\n",
        "print(new_top_5_features)\n",
        "\n",
        "# The existing Cell 6 uses: top_5_features = ['path_length', 'num_slashes', 'has_https', 'num_dots', 'url_length']\n",
        "# You would need to manually update the 'top_5_features' list in Cell 6 if the output above differs."
      ],
      "metadata": {
        "colab": {
          "base_uri": "https://localhost:8080/",
          "height": 982
        },
        "id": "JJjgG1WftMzL",
        "outputId": "14f216c4-05d3-45b2-cda4-20358aa06961"
      },
      "execution_count": null,
      "outputs": [
        {
          "output_type": "stream",
          "name": "stdout",
          "text": [
            "Starting Feature Importance Analysis on all 21 features...\n",
            "Preliminary Random Forest trained on 21 features.\n",
            "\n",
            "Feature Importances (Top 10 of 21 Features):\n",
            "path_length       0.301485\n",
            "num_slashes       0.238903\n",
            "has_https         0.179906\n",
            "num_dots          0.072472\n",
            "url_length        0.070058\n",
            "num_digits        0.033325\n",
            "num_subdomains    0.029583\n",
            "entropy           0.027978\n",
            "domain_length     0.021423\n",
            "num_hyphens       0.010497\n",
            "dtype: float64\n"
          ]
        },
        {
          "output_type": "display_data",
          "data": {
            "text/plain": [
              "<Figure size 1200x800 with 1 Axes>"
            ],
            "image/png": "[encoded data removed]"
          },
          "metadata": {}
        },
        {
          "output_type": "stream",
          "name": "stdout",
          "text": [
            "\n",
            "Confirmed/Suggested Top 5 Features for Final Model Training:\n",
            "['path_length', 'num_slashes', 'has_https', 'num_dots', 'url_length']\n"
          ]
        }
      ]
    },
    {
      "cell_type": "code",
      "source": [
        "# Cell 6 - Split first and Scale Features\n",
        "\n",
        "# Define the top 5 features based on the previous analysis\n",
        "top_5_features = ['path_length', 'num_slashes', 'has_https', 'num_dots', 'url_length']\n",
        "\n",
        "# Select only the top 5 features from the feature matrix\n",
        "X_features_top5 = X_features[:, [feature_names.index(f) for f in top_5_features]]\n",
        "\n",
        "# Split data using the reduced feature set\n",
        "urls_train, urls_test, X_feat_train, X_feat_test, y_train, y_test = train_test_split(\n",
        "    processed_urls, X_features_top5, y, test_size=0.2, random_state=seed, stratify=y\n",
        ")\n",
        "\n",
        "print(\"Train samples:\", len(urls_train), \"Test samples:\", len(urls_test))\n",
        "\n",
        "# Scaler - fit on train only\n",
        "scaler = StandardScaler()\n",
        "X_feat_train_scaled = scaler.fit_transform(X_feat_train)\n",
        "X_feat_test_scaled = scaler.transform(X_feat_test)\n",
        "\n",
        "\n",
        "\n",
        "\n",
        "print(\"X_feat_train shape:\", X_feat_train_scaled.shape)"
      ],
      "metadata": {
        "colab": {
          "base_uri": "https://localhost:8080/"
        },
        "id": "-aBSaN6tm4sj",
        "outputId": "92081ad6-8fc4-4a5b-bb21-bbb72fb9cb35"
      },
      "execution_count": null,
      "outputs": [
        {
          "output_type": "stream",
          "name": "stdout",
          "text": [
            "Train samples: 80000 Test samples: 20000\n",
            "X_feat_train shape: (80000, 5)\n"
          ]
        }
      ]
    },
    {
      "cell_type": "code",
      "source": [
        "# Cell 7 - Model (Random Forest)\n",
        "from sklearn.ensemble import RandomForestClassifier\n",
        "\n",
        "# For Random Forest, we don't need the complex Keras model structure.\n",
        "# The features are already scaled and ready to be used directly.\n",
        "\n",
        "print(\"Using Random Forest Classifier.\")\n",
        "# model definition is no longer needed in this cell"
      ],
      "metadata": {
        "colab": {
          "base_uri": "https://localhost:8080/"
        },
        "id": "F_1NDY3Ym6Hf",
        "outputId": "c524a940-9313-45e9-cdf1-9ae5ad863a41"
      },
      "execution_count": null,
      "outputs": [
        {
          "output_type": "stream",
          "name": "stdout",
          "text": [
            "Using Random Forest Classifier.\n"
          ]
        }
      ]
    },
    {
      "cell_type": "code",
      "source": [
        "# Cell 8 - Train (Random Forest)\n",
        "\n",
        "# For Random Forest, we don't use Keras callbacks like EarlyStopping, ReduceLROnPlateau, ModelCheckpoint.\n",
        "# Training is a single call to the fit method.\n",
        "\n",
        "# Initialize and train the Random Forest model\n",
        "# You might want to tune parameters like n_estimators, max_depth, etc.\n",
        "model = RandomForestClassifier(n_estimators=100, random_state=seed, n_jobs=-1)\n",
        "\n",
        "print(\"Training Random Forest model with top 5 features...\")\n",
        "model.fit(X_feat_train_scaled, y_train)\n",
        "print(\"Training complete.\")\n",
        "\n",
        "# Note: For Random Forest, saving and loading is done using pickle\n",
        "# This will be handled in a later cell (Cell 11)."
      ],
      "metadata": {
        "colab": {
          "base_uri": "https://localhost:8080/"
        },
        "id": "_lq2c387m7Zc",
        "outputId": "edb9eb84-072a-4437-bf8a-47c1179da8f7"
      },
      "execution_count": null,
      "outputs": [
        {
          "output_type": "stream",
          "name": "stdout",
          "text": [
            "Training Random Forest model with top 5 features...\n",
            "Training complete.\n"
          ]
        }
      ]
    },
    {
      "cell_type": "code",
      "source": [
        "# Generate ROC curve\n",
        "from sklearn.metrics import roc_curve, RocCurveDisplay\n",
        "\n",
        "y_pred_proba = model.predict_proba(X_feat_test_scaled)[:, 1]\n",
        "fpr, tpr, thresholds = roc_curve(y_test, y_pred_proba)\n",
        "\n",
        "plt.figure(figsize=(8, 6))\n",
        "plt.plot(fpr, tpr, label=f'ROC Curve (AUC = {roc_auc_score(y_test, y_pred_proba):.4f})')\n",
        "plt.plot([0, 1], [0, 1], 'k--') # Random chance line\n",
        "plt.xlim([0.0, 1.0])\n",
        "plt.ylim([0.0, 1.05])\n",
        "plt.xlabel('False Positive Rate')\n",
        "plt.ylabel('True Positive Rate')\n",
        "plt.title('Receiver Operating Characteristic (ROC) Curve')\n",
        "plt.legend(loc=\"lower right\")\n",
        "plt.grid(True)\n",
        "plt.show()"
      ],
      "metadata": {
        "colab": {
          "base_uri": "https://localhost:8080/",
          "height": 564
        },
        "id": "6Ck9L_IOm8fS",
        "outputId": "3d1fcb40-b290-41f6-e133-ccb75b120085"
      },
      "execution_count": null,
      "outputs": [
        {
          "output_type": "display_data",
          "data": {
            "text/plain": [
              "<Figure size 800x600 with 1 Axes>"
            ],
            "image/png": "[encoded data removed]"
          },
          "metadata": {}
        }
      ]
    },
    {
      "cell_type": "code",
      "source": [
        "# Cell 10 - Evaluation (use probabilities for AUC)\n",
        "y_pred_proba = model.predict_proba(X_feat_test_scaled)[:, 1] # Get probability for the positive class\n",
        "y_pred = (y_pred_proba >= 0.5).astype(int)\n",
        "\n",
        "print(\"Classification Report:\\n\", classification_report(y_test, y_pred, digits=4))\n",
        "print(\"Confusion Matrix:\\n\", confusion_matrix(y_test, y_pred))\n",
        "print(\"ROC AUC (probabilities):\", roc_auc_score(y_test, y_pred_proba))"
      ],
      "metadata": {
        "colab": {
          "base_uri": "https://localhost:8080/"
        },
        "id": "j3jPgDLxm9yr",
        "outputId": "64cdf962-3087-4816-8214-f477befe2cf5"
      },
      "execution_count": null,
      "outputs": [
        {
          "output_type": "stream",
          "name": "stdout",
          "text": [
            "Classification Report:\n",
            "               precision    recall  f1-score   support\n",
            "\n",
            "           0     0.9925    0.9980    0.9953     10000\n",
            "           1     0.9980    0.9925    0.9952     10000\n",
            "\n",
            "    accuracy                         0.9952     20000\n",
            "   macro avg     0.9953    0.9952    0.9952     20000\n",
            "weighted avg     0.9953    0.9952    0.9952     20000\n",
            "\n",
            "Confusion Matrix:\n",
            " [[9980   20]\n",
            " [  75 9925]]\n",
            "ROC AUC (probabilities): 0.99816496\n"
          ]
        }
      ]
    },
    {
      "cell_type": "code",
      "source": [
        "# Cell 11 - save preprocessing\n",
        "with open('scaler.pkl','wb') as f:\n",
        "    pickle.dump(scaler, f)\n",
        "\n",
        "# Save the Random Forest model using pickle\n",
        "with open('random_forest_model.pkl', 'wb') as f:\n",
        "    pickle.dump(model, f)\n",
        "\n",
        "print(\"Saved scaler and Random Forest model.\")"
      ],
      "metadata": {
        "colab": {
          "base_uri": "https://localhost:8080/"
        },
        "id": "L3PkdoKam-VF",
        "outputId": "9f7a58b6-ed9e-40b6-a830-d66c869aa579"
      },
      "execution_count": null,
      "outputs": [
        {
          "output_type": "stream",
          "name": "stdout",
          "text": [
            "Saved scaler and Random Forest model.\n"
          ]
        }
      ]
    },
    {
      "cell_type": "code",
      "source": [
        "# # Cell 12 - predict new URL (uses same preprocessing)\n",
        "\n",
        "# # Define the top 5 features used for training\n",
        "# top_5_features = ['path_length', 'num_slashes', 'has_https', 'num_dots', 'url_length']\n",
        "\n",
        "# def predict_new_url(url, model, scaler, threshold=0.5): # Removed tokenizer from signature and default threshold changed to 0.5\n",
        "#     u = url.strip()\n",
        "#     if not u.lower().startswith(('http://','https://')):\n",
        "#         u = 'http://' + u\n",
        "#     processed = preprocess_urls([u], keep_scheme=True)[0]\n",
        "#     # Text features (padded) are not used by the Random Forest model\n",
        "#     # seq = tokenizer.texts_to_sequences([processed])\n",
        "#     # padded = pad_sequences(seq, maxlen=max_len)\n",
        "\n",
        "#     feats, all_feature_names = extract_advanced_features([processed])\n",
        "\n",
        "#     # Select only the top 5 features for prediction\n",
        "#     feats_top5 = feats[:, [all_feature_names.index(f) for f in top_5_features]]\n",
        "\n",
        "#     # Display the top 5 feature values for the input URL\n",
        "#     print(\"\\nTop 5 Feature Values for this URL:\")\n",
        "#     for i, feature_name in enumerate(top_5_features):\n",
        "#         print(f\"  {feature_name}: {feats_top5[0, i]}\")\n",
        "\n",
        "#     scaled = scaler.transform(feats_top5)\n",
        "#     # Random Forest predict_proba returns probabilities for each class\n",
        "#     proba = model.predict_proba(scaled)[:, 1] # Get probability for the positive class\n",
        "#     proba = proba[0] # Get the single probability value for the input url\n",
        "#     label = \"MALICIOUS\" if proba >= threshold else \"LEGIT\"\n",
        "#     print(f\"\\nURL: {url}\\nProbability: {proba:.4f}\\nLabel: {label}\")\n",
        "#     return proba, label\n",
        "\n",
        "# # Example\n",
        "# # Note: Ensure 'model' and 'scaler' are defined by running previous cells\n",
        "# predict_new_url(\"https://www.microsoft.com/en-in/software-download/windows10\", model, scaler) # Removed tokenizer argument"
      ],
      "metadata": {
        "id": "mGjuvzNqm_uo"
      },
      "execution_count": null,
      "outputs": []
    },
    {
      "cell_type": "code",
      "source": [],
      "metadata": {
        "id": "F2rwv0VYnCKv"
      },
      "execution_count": null,
      "outputs": []
    },
    {
      "cell_type": "code",
      "source": [],
      "metadata": {
        "id": "yUGJqjQJmvGZ"
      },
      "execution_count": null,
      "outputs": []
    }
  ]
}